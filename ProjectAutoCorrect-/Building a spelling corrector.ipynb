{
 "cells": [
  {
   "cell_type": "markdown",
   "metadata": {
    "id": "1vPmZgGcAjJi"
   },
   "source": [
    "## Steps to build the spelling corrector\n",
    "\n",
    "1. Mounting the drive and loading the dataset\n",
    "2. Pre-processing the data\n",
    "3. Generating the candidate words\n",
    "4. Defining the language model\n",
    "5. Defining the channel model\n",
    "6. Auto Correction"
   ]
  },
  {
   "cell_type": "markdown",
   "metadata": {
    "id": "02pzjJQHGlcb"
   },
   "source": [
    "### 1. Mounting the drive and loading the dataset"
   ]
  },
  {
   "cell_type": "code",
   "execution_count": null,
   "metadata": {
    "executionInfo": {
     "elapsed": 1980,
     "status": "ok",
     "timestamp": 1603262012761,
     "user": {
      "displayName": "Aishwarya Singh",
      "photoUrl": "https://lh3.googleusercontent.com/a-/AOh14GgeJwfn4BdBDCAplWi_kdtB9FRssOpXO7T_aMgg=s64",
      "userId": "01105858832371513140"
     },
     "user_tz": -330
    },
    "id": "07VIC8VIBt-X"
   },
   "outputs": [],
   "source": [
    "# importing libraries\n",
    "import re\n",
    "from collections import Counter"
   ]
  },
  {
   "cell_type": "code",
   "execution_count": null,
   "metadata": {
    "executionInfo": {
     "elapsed": 17497,
     "status": "ok",
     "timestamp": 1603262089374,
     "user": {
      "displayName": "Aishwarya Singh",
      "photoUrl": "https://lh3.googleusercontent.com/a-/AOh14GgeJwfn4BdBDCAplWi_kdtB9FRssOpXO7T_aMgg=s64",
      "userId": "01105858832371513140"
     },
     "user_tz": -330
    },
    "id": "2QfJvY2jDCd3"
   },
   "outputs": [],
   "source": [
    "# reading the dataset\n",
    "file = open('big.txt').read()"
   ]
  },
  {
   "cell_type": "code",
   "execution_count": null,
   "metadata": {
    "colab": {
     "base_uri": "https://localhost:8080/",
     "height": 140,
     "output_embedded_package_id": "1TSd3uDRxlsUJfCCf8R9csBAVCPAagQc6"
    },
    "executionInfo": {
     "elapsed": 16681,
     "status": "ok",
     "timestamp": 1603262089380,
     "user": {
      "displayName": "Aishwarya Singh",
      "photoUrl": "https://lh3.googleusercontent.com/a-/AOh14GgeJwfn4BdBDCAplWi_kdtB9FRssOpXO7T_aMgg=s64",
      "userId": "01105858832371513140"
     },
     "user_tz": -330
    },
    "id": "FRWLsRKwDcBA",
    "outputId": "6004cf61-8d24-485a-d664-1c7aee08e150"
   },
   "outputs": [],
   "source": [
    "# content of the file\n",
    "file"
   ]
  },
  {
   "cell_type": "markdown",
   "metadata": {
    "id": "-ujoAcMmGrX9"
   },
   "source": [
    "### 2. Pre-processing the dataset"
   ]
  },
  {
   "cell_type": "code",
   "execution_count": null,
   "metadata": {
    "executionInfo": {
     "elapsed": 3838,
     "status": "ok",
     "timestamp": 1603262129202,
     "user": {
      "displayName": "Aishwarya Singh",
      "photoUrl": "https://lh3.googleusercontent.com/a-/AOh14GgeJwfn4BdBDCAplWi_kdtB9FRssOpXO7T_aMgg=s64",
      "userId": "01105858832371513140"
     },
     "user_tz": -330
    },
    "id": "Df10FiTMCvj8"
   },
   "outputs": [],
   "source": [
    "# function to extract all the words from the text file\n",
    "def words(text): \n",
    "    return re.findall(r'\\w+', text.lower())"
   ]
  },
  {
   "cell_type": "code",
   "execution_count": null,
   "metadata": {
    "colab": {
     "base_uri": "https://localhost:8080/",
     "height": 1000
    },
    "executionInfo": {
     "elapsed": 1658,
     "status": "ok",
     "timestamp": 1603262151812,
     "user": {
      "displayName": "Aishwarya Singh",
      "photoUrl": "https://lh3.googleusercontent.com/a-/AOh14GgeJwfn4BdBDCAplWi_kdtB9FRssOpXO7T_aMgg=s64",
      "userId": "01105858832371513140"
     },
     "user_tz": -330
    },
    "id": "-sWYH3BtUwC1",
    "outputId": "c5a28bfc-6ae0-4a7e-df00-93aadde61744"
   },
   "outputs": [],
   "source": [
    "# extracting words from the file\n",
    "words(file)"
   ]
  },
  {
   "cell_type": "code",
   "execution_count": null,
   "metadata": {
    "executionInfo": {
     "elapsed": 2424,
     "status": "ok",
     "timestamp": 1603262212211,
     "user": {
      "displayName": "Aishwarya Singh",
      "photoUrl": "https://lh3.googleusercontent.com/a-/AOh14GgeJwfn4BdBDCAplWi_kdtB9FRssOpXO7T_aMgg=s64",
      "userId": "01105858832371513140"
     },
     "user_tz": -330
    },
    "id": "yEWbtQGhCSLM"
   },
   "outputs": [],
   "source": [
    "# extracting the words and counting their frequency\n",
    "WORDS = Counter(words(file))"
   ]
  },
  {
   "cell_type": "code",
   "execution_count": null,
   "metadata": {
    "colab": {
     "base_uri": "https://localhost:8080/",
     "height": 1000
    },
    "executionInfo": {
     "elapsed": 1949,
     "status": "ok",
     "timestamp": 1603262218933,
     "user": {
      "displayName": "Aishwarya Singh",
      "photoUrl": "https://lh3.googleusercontent.com/a-/AOh14GgeJwfn4BdBDCAplWi_kdtB9FRssOpXO7T_aMgg=s64",
      "userId": "01105858832371513140"
     },
     "user_tz": -330
    },
    "id": "SBHASLqgttYp",
    "outputId": "0ec6eb67-d7e1-4a1a-8a7a-8d22315bc7a7"
   },
   "outputs": [],
   "source": [
    "# words and their respective frequencies\n",
    "WORDS"
   ]
  },
  {
   "cell_type": "code",
   "execution_count": null,
   "metadata": {
    "colab": {
     "base_uri": "https://localhost:8080/",
     "height": 34
    },
    "executionInfo": {
     "elapsed": 2958,
     "status": "ok",
     "timestamp": 1603262279272,
     "user": {
      "displayName": "Aishwarya Singh",
      "photoUrl": "https://lh3.googleusercontent.com/a-/AOh14GgeJwfn4BdBDCAplWi_kdtB9FRssOpXO7T_aMgg=s64",
      "userId": "01105858832371513140"
     },
     "user_tz": -330
    },
    "id": "WFBZ-3WLCzou",
    "outputId": "9800bcbb-4f74-4956-f564-7f3a00de7fa8"
   },
   "outputs": [],
   "source": [
    "# vocabulary size\n",
    "len(WORDS)"
   ]
  },
  {
   "cell_type": "markdown",
   "metadata": {
    "id": "oHCUQoMnubpa"
   },
   "source": [
    "### 3. Generating candidate words"
   ]
  },
  {
   "cell_type": "code",
   "execution_count": null,
   "metadata": {
    "executionInfo": {
     "elapsed": 1085,
     "status": "ok",
     "timestamp": 1603262308399,
     "user": {
      "displayName": "Aishwarya Singh",
      "photoUrl": "https://lh3.googleusercontent.com/a-/AOh14GgeJwfn4BdBDCAplWi_kdtB9FRssOpXO7T_aMgg=s64",
      "userId": "01105858832371513140"
     },
     "user_tz": -330
    },
    "id": "VGkxaBNIuepk"
   },
   "outputs": [],
   "source": [
    "# defining a sample word\n",
    "word = 'haw'"
   ]
  },
  {
   "cell_type": "code",
   "execution_count": null,
   "metadata": {
    "executionInfo": {
     "elapsed": 1927,
     "status": "ok",
     "timestamp": 1603262313161,
     "user": {
      "displayName": "Aishwarya Singh",
      "photoUrl": "https://lh3.googleusercontent.com/a-/AOh14GgeJwfn4BdBDCAplWi_kdtB9FRssOpXO7T_aMgg=s64",
      "userId": "01105858832371513140"
     },
     "user_tz": -330
    },
    "id": "DZmAiHi3ud9F"
   },
   "outputs": [],
   "source": [
    "# splitting the word into sub-words\n",
    "splits = []\n",
    "for i in range(len(word) + 1):\n",
    "    splits.append((word[:i], word[i:]))"
   ]
  },
  {
   "cell_type": "code",
   "execution_count": null,
   "metadata": {
    "colab": {
     "base_uri": "https://localhost:8080/",
     "height": 34
    },
    "executionInfo": {
     "elapsed": 836,
     "status": "ok",
     "timestamp": 1603262315307,
     "user": {
      "displayName": "Aishwarya Singh",
      "photoUrl": "https://lh3.googleusercontent.com/a-/AOh14GgeJwfn4BdBDCAplWi_kdtB9FRssOpXO7T_aMgg=s64",
      "userId": "01105858832371513140"
     },
     "user_tz": -330
    },
    "id": "1oOuS9q_ueDh",
    "outputId": "249700cb-60fb-4473-b644-2eeb48e0b53f"
   },
   "outputs": [],
   "source": [
    "# sub-words\n",
    "splits"
   ]
  },
  {
   "cell_type": "code",
   "execution_count": null,
   "metadata": {
    "executionInfo": {
     "elapsed": 1171,
     "status": "ok",
     "timestamp": 1603262359219,
     "user": {
      "displayName": "Aishwarya Singh",
      "photoUrl": "https://lh3.googleusercontent.com/a-/AOh14GgeJwfn4BdBDCAplWi_kdtB9FRssOpXO7T_aMgg=s64",
      "userId": "01105858832371513140"
     },
     "user_tz": -330
    },
    "id": "yG4O-HyVud0N"
   },
   "outputs": [],
   "source": [
    "# all possible letters that will be used to generate candidate words\n",
    "letters = 'abcdefghijklmnopqrstuvwxyz'"
   ]
  },
  {
   "cell_type": "code",
   "execution_count": null,
   "metadata": {
    "executionInfo": {
     "elapsed": 1095,
     "status": "ok",
     "timestamp": 1603262365785,
     "user": {
      "displayName": "Aishwarya Singh",
      "photoUrl": "https://lh3.googleusercontent.com/a-/AOh14GgeJwfn4BdBDCAplWi_kdtB9FRssOpXO7T_aMgg=s64",
      "userId": "01105858832371513140"
     },
     "user_tz": -330
    },
    "id": "x4zDFSzovDy5"
   },
   "outputs": [],
   "source": [
    "# generating candidates after insertion of a letter\n",
    "insertion = []\n",
    "for sw1, sw2 in splits:\n",
    "    for c in letters:\n",
    "        insertion.append(sw1 + c + sw2)"
   ]
  },
  {
   "cell_type": "code",
   "execution_count": null,
   "metadata": {
    "colab": {
     "base_uri": "https://localhost:8080/",
     "height": 1000
    },
    "executionInfo": {
     "elapsed": 1132,
     "status": "ok",
     "timestamp": 1603262418498,
     "user": {
      "displayName": "Aishwarya Singh",
      "photoUrl": "https://lh3.googleusercontent.com/a-/AOh14GgeJwfn4BdBDCAplWi_kdtB9FRssOpXO7T_aMgg=s64",
      "userId": "01105858832371513140"
     },
     "user_tz": -330
    },
    "id": "tJymlhshvD6s",
    "outputId": "74fab104-831a-4e52-eaff-1bd665252f63"
   },
   "outputs": [],
   "source": [
    "# candidates after insertion\n",
    "insertion"
   ]
  },
  {
   "cell_type": "code",
   "execution_count": null,
   "metadata": {
    "executionInfo": {
     "elapsed": 1180,
     "status": "ok",
     "timestamp": 1603262464574,
     "user": {
      "displayName": "Aishwarya Singh",
      "photoUrl": "https://lh3.googleusercontent.com/a-/AOh14GgeJwfn4BdBDCAplWi_kdtB9FRssOpXO7T_aMgg=s64",
      "userId": "01105858832371513140"
     },
     "user_tz": -330
    },
    "id": "7Q6ofpw0u5xK"
   },
   "outputs": [],
   "source": [
    "# generating candidates after deletion of a letter\n",
    "deletion = []\n",
    "for sw1, sw2 in splits:\n",
    "    if sw2:\n",
    "        deletion.append(sw1 + sw2[1:])"
   ]
  },
  {
   "cell_type": "code",
   "execution_count": null,
   "metadata": {
    "colab": {
     "base_uri": "https://localhost:8080/",
     "height": 34
    },
    "executionInfo": {
     "elapsed": 2204,
     "status": "ok",
     "timestamp": 1603262468128,
     "user": {
      "displayName": "Aishwarya Singh",
      "photoUrl": "https://lh3.googleusercontent.com/a-/AOh14GgeJwfn4BdBDCAplWi_kdtB9FRssOpXO7T_aMgg=s64",
      "userId": "01105858832371513140"
     },
     "user_tz": -330
    },
    "id": "NZ0arA-vueAu",
    "outputId": "a1f821bd-8e3b-4bf9-fe75-cf8beee861aa"
   },
   "outputs": [],
   "source": [
    "# candidates after deletion\n",
    "deletion"
   ]
  },
  {
   "cell_type": "code",
   "execution_count": null,
   "metadata": {
    "executionInfo": {
     "elapsed": 1999,
     "status": "ok",
     "timestamp": 1603262506732,
     "user": {
      "displayName": "Aishwarya Singh",
      "photoUrl": "https://lh3.googleusercontent.com/a-/AOh14GgeJwfn4BdBDCAplWi_kdtB9FRssOpXO7T_aMgg=s64",
      "userId": "01105858832371513140"
     },
     "user_tz": -330
    },
    "id": "BeY8rgoVv2Ra"
   },
   "outputs": [],
   "source": [
    "# generating candidates after substitution of a letter\n",
    "substitution = []\n",
    "for sw1, sw2 in splits:\n",
    "    if sw2: \n",
    "        for c in letters:\n",
    "            substitution.append(sw1 + c + sw2[1:])"
   ]
  },
  {
   "cell_type": "code",
   "execution_count": null,
   "metadata": {
    "colab": {
     "base_uri": "https://localhost:8080/",
     "height": 1000
    },
    "executionInfo": {
     "elapsed": 866,
     "status": "ok",
     "timestamp": 1603262506737,
     "user": {
      "displayName": "Aishwarya Singh",
      "photoUrl": "https://lh3.googleusercontent.com/a-/AOh14GgeJwfn4BdBDCAplWi_kdtB9FRssOpXO7T_aMgg=s64",
      "userId": "01105858832371513140"
     },
     "user_tz": -330
    },
    "id": "HMIT-m5Gv2Zl",
    "outputId": "bdfee3ba-aa9a-43f1-dbb9-19e7e82ecfd6"
   },
   "outputs": [],
   "source": [
    "# candidates after substitution\n",
    "substitution"
   ]
  },
  {
   "cell_type": "code",
   "execution_count": null,
   "metadata": {
    "colab": {
     "base_uri": "https://localhost:8080/",
     "height": 34
    },
    "executionInfo": {
     "elapsed": 5888,
     "status": "ok",
     "timestamp": 1603262551117,
     "user": {
      "displayName": "Aishwarya Singh",
      "photoUrl": "https://lh3.googleusercontent.com/a-/AOh14GgeJwfn4BdBDCAplWi_kdtB9FRssOpXO7T_aMgg=s64",
      "userId": "01105858832371513140"
     },
     "user_tz": -330
    },
    "id": "nK6vTDg0v2XF",
    "outputId": "067d8843-8281-40bc-fc99-3ea59c7904e8"
   },
   "outputs": [],
   "source": [
    "# generating candidates after transposition of two adjecent letters\n",
    "transpose = []\n",
    "for sw1, sw2 in splits: \n",
    "    if len(sw2)>1:\n",
    "        transpose.append(sw1 + sw2[1] + sw2[0] + sw2[2:])\n",
    "\n",
    "# candidates after transposition\n",
    "transpose"
   ]
  },
  {
   "cell_type": "code",
   "execution_count": null,
   "metadata": {
    "colab": {
     "base_uri": "https://localhost:8080/",
     "height": 1000
    },
    "executionInfo": {
     "elapsed": 3239,
     "status": "ok",
     "timestamp": 1603262584781,
     "user": {
      "displayName": "Aishwarya Singh",
      "photoUrl": "https://lh3.googleusercontent.com/a-/AOh14GgeJwfn4BdBDCAplWi_kdtB9FRssOpXO7T_aMgg=s64",
      "userId": "01105858832371513140"
     },
     "user_tz": -330
    },
    "id": "aykYVHSsudxK",
    "outputId": "ab525235-560c-4537-d510-300a43726254"
   },
   "outputs": [],
   "source": [
    "# all generated candidate for a word\n",
    "set(insertion + deletion + substitution + transpose)"
   ]
  },
  {
   "cell_type": "code",
   "execution_count": null,
   "metadata": {
    "executionInfo": {
     "elapsed": 3759,
     "status": "ok",
     "timestamp": 1603262605075,
     "user": {
      "displayName": "Aishwarya Singh",
      "photoUrl": "https://lh3.googleusercontent.com/a-/AOh14GgeJwfn4BdBDCAplWi_kdtB9FRssOpXO7T_aMgg=s64",
      "userId": "01105858832371513140"
     },
     "user_tz": -330
    },
    "id": "yRqjSsPnw_C5"
   },
   "outputs": [],
   "source": [
    "# defining a function to generate all the candidates that are 1 edit distance from the original word\n",
    "def edits1(word):\n",
    "    # splitting the word into sub-words\n",
    "    splits     = [(word[:i], word[i:])    for i in range(len(word) + 1)]\n",
    "    # generating candidates after insertion of a letter\n",
    "    insertion    = [sw1 + c + sw2               for sw1, sw2 in splits for c in letters]\n",
    "    # generating candidates after deletion of a letter\n",
    "    deletion    = [sw1 + sw2[1:]               for sw1, sw2 in splits if sw2]\n",
    "    # generating candidates after substitution of a letter\n",
    "    substitution   = [sw1 + c + sw2[1:]           for sw1, sw2 in splits if sw2 for c in letters]\n",
    "    # generating candidates after transposition of two adjecent letters\n",
    "    transpose = [sw1 + sw2[1] + sw2[0] + sw2[2:] for sw1, sw2 in splits if len(sw2)>1]\n",
    "    # returning all generated candidate for a word  \n",
    "    return set(deletion + insertion + substitution + transpose)"
   ]
  },
  {
   "cell_type": "code",
   "execution_count": null,
   "metadata": {
    "colab": {
     "base_uri": "https://localhost:8080/",
     "height": 1000
    },
    "executionInfo": {
     "elapsed": 2542,
     "status": "ok",
     "timestamp": 1603262718437,
     "user": {
      "displayName": "Aishwarya Singh",
      "photoUrl": "https://lh3.googleusercontent.com/a-/AOh14GgeJwfn4BdBDCAplWi_kdtB9FRssOpXO7T_aMgg=s64",
      "userId": "01105858832371513140"
     },
     "user_tz": -330
    },
    "id": "IHbK0Kdsw--P",
    "outputId": "8dd8ffad-71be-4c15-8e3c-e73f5c8afa2d"
   },
   "outputs": [],
   "source": [
    "# generating candidate for a sample word\n",
    "edits1('the')"
   ]
  },
  {
   "cell_type": "code",
   "execution_count": null,
   "metadata": {
    "colab": {
     "base_uri": "https://localhost:8080/",
     "height": 34
    },
    "executionInfo": {
     "elapsed": 3394,
     "status": "ok",
     "timestamp": 1603262755650,
     "user": {
      "displayName": "Aishwarya Singh",
      "photoUrl": "https://lh3.googleusercontent.com/a-/AOh14GgeJwfn4BdBDCAplWi_kdtB9FRssOpXO7T_aMgg=s64",
      "userId": "01105858832371513140"
     },
     "user_tz": -330
    },
    "id": "TmurDeJ6w-78",
    "outputId": "e763b6b7-a692-444a-d592-b75607110d7c"
   },
   "outputs": [],
   "source": [
    "# number of generated candidates for a sample word\n",
    "len(edits1('the'))"
   ]
  },
  {
   "cell_type": "code",
   "execution_count": null,
   "metadata": {
    "colab": {
     "base_uri": "https://localhost:8080/",
     "height": 34
    },
    "executionInfo": {
     "elapsed": 1553,
     "status": "ok",
     "timestamp": 1603262761826,
     "user": {
      "displayName": "Aishwarya Singh",
      "photoUrl": "https://lh3.googleusercontent.com/a-/AOh14GgeJwfn4BdBDCAplWi_kdtB9FRssOpXO7T_aMgg=s64",
      "userId": "01105858832371513140"
     },
     "user_tz": -330
    },
    "id": "kPHxatx1w-5m",
    "outputId": "8c35e8c4-c662-4e6f-a784-c740276bde38"
   },
   "outputs": [],
   "source": [
    "# number of generated candidates for a sample word\n",
    "len(edits1('lanuage'))"
   ]
  },
  {
   "cell_type": "code",
   "execution_count": null,
   "metadata": {
    "executionInfo": {
     "elapsed": 1404,
     "status": "ok",
     "timestamp": 1603262813169,
     "user": {
      "displayName": "Aishwarya Singh",
      "photoUrl": "https://lh3.googleusercontent.com/a-/AOh14GgeJwfn4BdBDCAplWi_kdtB9FRssOpXO7T_aMgg=s64",
      "userId": "01105858832371513140"
     },
     "user_tz": -330
    },
    "id": "Z-xSTxg2w-3a"
   },
   "outputs": [],
   "source": [
    "# function to keep only those candidates which are present in the vocabulary\n",
    "def known(words):\n",
    "    return set(w for w in words if w in WORDS)"
   ]
  },
  {
   "cell_type": "code",
   "execution_count": null,
   "metadata": {
    "colab": {
     "base_uri": "https://localhost:8080/",
     "height": 34
    },
    "executionInfo": {
     "elapsed": 4772,
     "status": "ok",
     "timestamp": 1603262823201,
     "user": {
      "displayName": "Aishwarya Singh",
      "photoUrl": "https://lh3.googleusercontent.com/a-/AOh14GgeJwfn4BdBDCAplWi_kdtB9FRssOpXO7T_aMgg=s64",
      "userId": "01105858832371513140"
     },
     "user_tz": -330
    },
    "id": "eOa2tKKiw-03",
    "outputId": "ed8cb6dd-4b0d-47c6-dd6c-e35629e6a187"
   },
   "outputs": [],
   "source": [
    "# generating known candidates for a sample word\n",
    "known(edits1('lanuage'))"
   ]
  },
  {
   "cell_type": "code",
   "execution_count": null,
   "metadata": {
    "colab": {
     "base_uri": "https://localhost:8080/",
     "height": 225
    },
    "executionInfo": {
     "elapsed": 10309,
     "status": "ok",
     "timestamp": 1603262859808,
     "user": {
      "displayName": "Aishwarya Singh",
      "photoUrl": "https://lh3.googleusercontent.com/a-/AOh14GgeJwfn4BdBDCAplWi_kdtB9FRssOpXO7T_aMgg=s64",
      "userId": "01105858832371513140"
     },
     "user_tz": -330
    },
    "id": "mtm5sVc4ytzR",
    "outputId": "01f2d357-2188-4e64-acc7-699c25f21af2"
   },
   "outputs": [],
   "source": [
    "# generating known candidates for a sample word\n",
    "known(edits1('the'))"
   ]
  },
  {
   "cell_type": "markdown",
   "metadata": {
    "id": "CJ2YCBL_t9Gl"
   },
   "source": [
    "### 4. Defining the language Model"
   ]
  },
  {
   "cell_type": "code",
   "execution_count": null,
   "metadata": {
    "colab": {
     "base_uri": "https://localhost:8080/",
     "height": 34
    },
    "executionInfo": {
     "elapsed": 2294,
     "status": "ok",
     "timestamp": 1603262932448,
     "user": {
      "displayName": "Aishwarya Singh",
      "photoUrl": "https://lh3.googleusercontent.com/a-/AOh14GgeJwfn4BdBDCAplWi_kdtB9FRssOpXO7T_aMgg=s64",
      "userId": "01105858832371513140"
     },
     "user_tz": -330
    },
    "id": "SdJyyMkqypd5",
    "outputId": "67f035e0-0b7d-4929-d26a-3b7772419154"
   },
   "outputs": [],
   "source": [
    "# total number of words in the file\n",
    "sum(WORDS.values())"
   ]
  },
  {
   "cell_type": "code",
   "execution_count": null,
   "metadata": {
    "executionInfo": {
     "elapsed": 3059,
     "status": "ok",
     "timestamp": 1603262944430,
     "user": {
      "displayName": "Aishwarya Singh",
      "photoUrl": "https://lh3.googleusercontent.com/a-/AOh14GgeJwfn4BdBDCAplWi_kdtB9FRssOpXO7T_aMgg=s64",
      "userId": "01105858832371513140"
     },
     "user_tz": -330
    },
    "id": "51Tfn4F-t6RM"
   },
   "outputs": [],
   "source": [
    "# defining a function to return the probability of a word\n",
    "def P(word, N=sum(WORDS.values())): \n",
    "    return WORDS[word] / N"
   ]
  },
  {
   "cell_type": "code",
   "execution_count": null,
   "metadata": {
    "colab": {
     "base_uri": "https://localhost:8080/",
     "height": 34
    },
    "executionInfo": {
     "elapsed": 2656,
     "status": "ok",
     "timestamp": 1603262951425,
     "user": {
      "displayName": "Aishwarya Singh",
      "photoUrl": "https://lh3.googleusercontent.com/a-/AOh14GgeJwfn4BdBDCAplWi_kdtB9FRssOpXO7T_aMgg=s64",
      "userId": "01105858832371513140"
     },
     "user_tz": -330
    },
    "id": "aAw8rrIct6bk",
    "outputId": "71184c2f-1ffe-4b14-ccfa-9b75f59ac13b"
   },
   "outputs": [],
   "source": [
    "# probability of sample word\n",
    "P('the')"
   ]
  },
  {
   "cell_type": "code",
   "execution_count": null,
   "metadata": {
    "colab": {
     "base_uri": "https://localhost:8080/",
     "height": 34
    },
    "executionInfo": {
     "elapsed": 18571,
     "status": "ok",
     "timestamp": 1603262976136,
     "user": {
      "displayName": "Aishwarya Singh",
      "photoUrl": "https://lh3.googleusercontent.com/a-/AOh14GgeJwfn4BdBDCAplWi_kdtB9FRssOpXO7T_aMgg=s64",
      "userId": "01105858832371513140"
     },
     "user_tz": -330
    },
    "id": "OOKc-usKt6Wd",
    "outputId": "9b6a9e8e-d5d8-4b3d-f548-a2c50f881912"
   },
   "outputs": [],
   "source": [
    "# probability of sample word\n",
    "P('how')"
   ]
  },
  {
   "cell_type": "markdown",
   "metadata": {
    "id": "VUCVSzekuK8J"
   },
   "source": [
    "### 5. Defining the channel model\n",
    "\n",
    "Return a word if:\n",
    "1. It is known, else\n",
    "2. It is 1 edit distance away from the original word, else\n",
    "3. Original word even if it is not known"
   ]
  },
  {
   "cell_type": "code",
   "execution_count": null,
   "metadata": {
    "executionInfo": {
     "elapsed": 3635,
     "status": "ok",
     "timestamp": 1603264270499,
     "user": {
      "displayName": "Aishwarya Singh",
      "photoUrl": "https://lh3.googleusercontent.com/a-/AOh14GgeJwfn4BdBDCAplWi_kdtB9FRssOpXO7T_aMgg=s64",
      "userId": "01105858832371513140"
     },
     "user_tz": -330
    },
    "id": "goLHNMipGJ2u"
   },
   "outputs": [],
   "source": [
    "# function to generate the candidates\n",
    "def candidates(word): \n",
    "    return list(known([word])) or list(known(edits1(word))) or [word]"
   ]
  },
  {
   "cell_type": "code",
   "execution_count": null,
   "metadata": {
    "colab": {
     "base_uri": "https://localhost:8080/",
     "height": 34
    },
    "executionInfo": {
     "elapsed": 4911,
     "status": "ok",
     "timestamp": 1603264331728,
     "user": {
      "displayName": "Aishwarya Singh",
      "photoUrl": "https://lh3.googleusercontent.com/a-/AOh14GgeJwfn4BdBDCAplWi_kdtB9FRssOpXO7T_aMgg=s64",
      "userId": "01105858832371513140"
     },
     "user_tz": -330
    },
    "id": "dNiq27jyIHJq",
    "outputId": "f0442d6e-842e-490b-b5bf-2ca92085b637"
   },
   "outputs": [],
   "source": [
    "# generating candidates for a sample word\n",
    "candidates('lanuage')"
   ]
  },
  {
   "cell_type": "code",
   "execution_count": null,
   "metadata": {
    "colab": {
     "base_uri": "https://localhost:8080/",
     "height": 34
    },
    "executionInfo": {
     "elapsed": 2506,
     "status": "ok",
     "timestamp": 1603264342937,
     "user": {
      "displayName": "Aishwarya Singh",
      "photoUrl": "https://lh3.googleusercontent.com/a-/AOh14GgeJwfn4BdBDCAplWi_kdtB9FRssOpXO7T_aMgg=s64",
      "userId": "01105858832371513140"
     },
     "user_tz": -330
    },
    "id": "L0CEP43Sz-jT",
    "outputId": "b7f4d169-5839-434b-a88d-f814dda64edf"
   },
   "outputs": [],
   "source": [
    "# generating candidates for a sample word\n",
    "candidates('the')"
   ]
  },
  {
   "cell_type": "code",
   "execution_count": null,
   "metadata": {
    "colab": {
     "base_uri": "https://localhost:8080/",
     "height": 312
    },
    "executionInfo": {
     "elapsed": 4435,
     "status": "ok",
     "timestamp": 1603264370264,
     "user": {
      "displayName": "Aishwarya Singh",
      "photoUrl": "https://lh3.googleusercontent.com/a-/AOh14GgeJwfn4BdBDCAplWi_kdtB9FRssOpXO7T_aMgg=s64",
      "userId": "01105858832371513140"
     },
     "user_tz": -330
    },
    "id": "VVm-ClGiz-tg",
    "outputId": "1d13da6d-113c-4510-8117-c9e98bffa810"
   },
   "outputs": [],
   "source": [
    "# generating candidates for a sample word\n",
    "candidates('lave')"
   ]
  },
  {
   "cell_type": "code",
   "execution_count": null,
   "metadata": {
    "executionInfo": {
     "elapsed": 1645,
     "status": "ok",
     "timestamp": 1603264393115,
     "user": {
      "displayName": "Aishwarya Singh",
      "photoUrl": "https://lh3.googleusercontent.com/a-/AOh14GgeJwfn4BdBDCAplWi_kdtB9FRssOpXO7T_aMgg=s64",
      "userId": "01105858832371513140"
     },
     "user_tz": -330
    },
    "id": "uG4mF22xF--W"
   },
   "outputs": [],
   "source": [
    "# function to pick the best word out of the generated candidates\n",
    "def correction(word): \n",
    "    return max(candidates(word), key=P)"
   ]
  },
  {
   "cell_type": "code",
   "execution_count": null,
   "metadata": {
    "colab": {
     "base_uri": "https://localhost:8080/",
     "height": 35
    },
    "executionInfo": {
     "elapsed": 1550,
     "status": "ok",
     "timestamp": 1603264412807,
     "user": {
      "displayName": "Aishwarya Singh",
      "photoUrl": "https://lh3.googleusercontent.com/a-/AOh14GgeJwfn4BdBDCAplWi_kdtB9FRssOpXO7T_aMgg=s64",
      "userId": "01105858832371513140"
     },
     "user_tz": -330
    },
    "id": "DDNa3GfpLIeB",
    "outputId": "298a9102-7b8b-43be-b55a-78273d0d361c"
   },
   "outputs": [],
   "source": [
    "# picking the best candidate for a sample word\n",
    "correction('lave')"
   ]
  },
  {
   "cell_type": "code",
   "execution_count": null,
   "metadata": {
    "colab": {
     "base_uri": "https://localhost:8080/",
     "height": 35
    },
    "executionInfo": {
     "elapsed": 3628,
     "status": "ok",
     "timestamp": 1603264428868,
     "user": {
      "displayName": "Aishwarya Singh",
      "photoUrl": "https://lh3.googleusercontent.com/a-/AOh14GgeJwfn4BdBDCAplWi_kdtB9FRssOpXO7T_aMgg=s64",
      "userId": "01105858832371513140"
     },
     "user_tz": -330
    },
    "id": "X1weDIyr0fXe",
    "outputId": "7b881e45-01e0-4cba-947b-dc88f3ef00ef"
   },
   "outputs": [],
   "source": [
    "# picking the best candidate for a sample word\n",
    "correction('lanuage')"
   ]
  },
  {
   "cell_type": "markdown",
   "metadata": {
    "id": "En243sXc0kv6"
   },
   "source": [
    "### 6. Auto correction \n",
    "\n",
    "1. Take a sentence as input\n",
    "2. Generate tokens from the sentence\n",
    "3. For each token, generate candidate words and return the corrected word\n",
    "4. Return the auto corrected sentence\n",
    "\n",
    "\n"
   ]
  },
  {
   "cell_type": "code",
   "execution_count": null,
   "metadata": {
    "executionInfo": {
     "elapsed": 3210,
     "status": "ok",
     "timestamp": 1603264482543,
     "user": {
      "displayName": "Aishwarya Singh",
      "photoUrl": "https://lh3.googleusercontent.com/a-/AOh14GgeJwfn4BdBDCAplWi_kdtB9FRssOpXO7T_aMgg=s64",
      "userId": "01105858832371513140"
     },
     "user_tz": -330
    },
    "id": "9L9fhUyn0zAH"
   },
   "outputs": [],
   "source": [
    "# input sentence\n",
    "sentence = 'how arq you'"
   ]
  },
  {
   "cell_type": "code",
   "execution_count": null,
   "metadata": {
    "colab": {
     "base_uri": "https://localhost:8080/",
     "height": 34
    },
    "executionInfo": {
     "elapsed": 2460,
     "status": "ok",
     "timestamp": 1603264490660,
     "user": {
      "displayName": "Aishwarya Singh",
      "photoUrl": "https://lh3.googleusercontent.com/a-/AOh14GgeJwfn4BdBDCAplWi_kdtB9FRssOpXO7T_aMgg=s64",
      "userId": "01105858832371513140"
     },
     "user_tz": -330
    },
    "id": "v8tv3ijO0yb1",
    "outputId": "41aa1653-00f5-4060-852d-e0722cef6299"
   },
   "outputs": [],
   "source": [
    "# generate tokens from the sentence\n",
    "tokens = sentence.split()\n",
    "tokens"
   ]
  },
  {
   "cell_type": "code",
   "execution_count": null,
   "metadata": {
    "executionInfo": {
     "elapsed": 1437,
     "status": "ok",
     "timestamp": 1603264516777,
     "user": {
      "displayName": "Aishwarya Singh",
      "photoUrl": "https://lh3.googleusercontent.com/a-/AOh14GgeJwfn4BdBDCAplWi_kdtB9FRssOpXO7T_aMgg=s64",
      "userId": "01105858832371513140"
     },
     "user_tz": -330
    },
    "id": "Tp39kY6z1ejS"
   },
   "outputs": [],
   "source": [
    "# generating candidates and returning the corrected word for each token\n",
    "corrected_sentence = []\n",
    "for i in range(len(tokens)):\n",
    "    corrected_token = correction(tokens[i])\n",
    "    corrected_sentence.append(corrected_token)"
   ]
  },
  {
   "cell_type": "code",
   "execution_count": null,
   "metadata": {
    "colab": {
     "base_uri": "https://localhost:8080/",
     "height": 34
    },
    "executionInfo": {
     "elapsed": 1074,
     "status": "ok",
     "timestamp": 1603264518937,
     "user": {
      "displayName": "Aishwarya Singh",
      "photoUrl": "https://lh3.googleusercontent.com/a-/AOh14GgeJwfn4BdBDCAplWi_kdtB9FRssOpXO7T_aMgg=s64",
      "userId": "01105858832371513140"
     },
     "user_tz": -330
    },
    "id": "FM6gRTZE1nsh",
    "outputId": "ad5d26fa-7c70-4c79-8b82-eb27c8c5107a"
   },
   "outputs": [],
   "source": [
    "# corrected tokens\n",
    "corrected_sentence"
   ]
  },
  {
   "cell_type": "code",
   "execution_count": null,
   "metadata": {
    "colab": {
     "base_uri": "https://localhost:8080/",
     "height": 35
    },
    "executionInfo": {
     "elapsed": 3080,
     "status": "ok",
     "timestamp": 1603264540899,
     "user": {
      "displayName": "Aishwarya Singh",
      "photoUrl": "https://lh3.googleusercontent.com/a-/AOh14GgeJwfn4BdBDCAplWi_kdtB9FRssOpXO7T_aMgg=s64",
      "userId": "01105858832371513140"
     },
     "user_tz": -330
    },
    "id": "9S0h86u11r65",
    "outputId": "962d376c-cf29-4893-c25e-7f10414d39dd"
   },
   "outputs": [],
   "source": [
    "# auto corrected sentence\n",
    "\" \".join(corrected_sentence)"
   ]
  },
  {
   "cell_type": "code",
   "execution_count": null,
   "metadata": {
    "executionInfo": {
     "elapsed": 1258,
     "status": "ok",
     "timestamp": 1603264577848,
     "user": {
      "displayName": "Aishwarya Singh",
      "photoUrl": "https://lh3.googleusercontent.com/a-/AOh14GgeJwfn4BdBDCAplWi_kdtB9FRssOpXO7T_aMgg=s64",
      "userId": "01105858832371513140"
     },
     "user_tz": -330
    },
    "id": "_exEzv7ALWQ8"
   },
   "outputs": [],
   "source": [
    "# function to return the auto corrected sentence\n",
    "def sentence_corrector(sentence):\n",
    "    sentence = sentence.lower()\n",
    "    tokens = sentence.split()\n",
    "    corrected_sentence = []\n",
    "    for i in range(len(tokens)):\n",
    "        corrected_token = correction(tokens[i])\n",
    "        corrected_sentence.append(corrected_token)\n",
    "    return \" \".join(corrected_sentence)"
   ]
  },
  {
   "cell_type": "code",
   "execution_count": null,
   "metadata": {
    "colab": {
     "base_uri": "https://localhost:8080/",
     "height": 35
    },
    "executionInfo": {
     "elapsed": 2676,
     "status": "ok",
     "timestamp": 1603264592872,
     "user": {
      "displayName": "Aishwarya Singh",
      "photoUrl": "https://lh3.googleusercontent.com/a-/AOh14GgeJwfn4BdBDCAplWi_kdtB9FRssOpXO7T_aMgg=s64",
      "userId": "01105858832371513140"
     },
     "user_tz": -330
    },
    "id": "axYiMX6HMBJ-",
    "outputId": "daf74c3e-b542-440f-9dae-43b18060a03b"
   },
   "outputs": [],
   "source": [
    "# auto correcting sample sentences\n",
    "sentence_corrector('natural lanuage processing')"
   ]
  },
  {
   "cell_type": "code",
   "execution_count": null,
   "metadata": {
    "colab": {
     "base_uri": "https://localhost:8080/",
     "height": 35
    },
    "executionInfo": {
     "elapsed": 5705,
     "status": "ok",
     "timestamp": 1603264606659,
     "user": {
      "displayName": "Aishwarya Singh",
      "photoUrl": "https://lh3.googleusercontent.com/a-/AOh14GgeJwfn4BdBDCAplWi_kdtB9FRssOpXO7T_aMgg=s64",
      "userId": "01105858832371513140"
     },
     "user_tz": -330
    },
    "id": "jxtwJlHfMag1",
    "outputId": "bd292f9d-9cc0-4610-c9b9-7e64ca5afd0d"
   },
   "outputs": [],
   "source": [
    "# auto correcting sample sentences\n",
    "sentence_corrector('i am diing gret')"
   ]
  },
  {
   "cell_type": "code",
   "execution_count": null,
   "metadata": {
    "colab": {
     "base_uri": "https://localhost:8080/",
     "height": 35
    },
    "executionInfo": {
     "elapsed": 4088,
     "status": "ok",
     "timestamp": 1603264623518,
     "user": {
      "displayName": "Aishwarya Singh",
      "photoUrl": "https://lh3.googleusercontent.com/a-/AOh14GgeJwfn4BdBDCAplWi_kdtB9FRssOpXO7T_aMgg=s64",
      "userId": "01105858832371513140"
     },
     "user_tz": -330
    },
    "id": "kmwgNhoM1j6q",
    "outputId": "b0e3fc64-40ef-43ba-9db0-4d628234bae2"
   },
   "outputs": [],
   "source": [
    "# auto correcting sample sentences\n",
    "sentence_corrector('are you alrikht')"
   ]
  },
  {
   "cell_type": "code",
   "execution_count": null,
   "metadata": {
    "colab": {
     "base_uri": "https://localhost:8080/",
     "height": 35
    },
    "executionInfo": {
     "elapsed": 5838,
     "status": "ok",
     "timestamp": 1603264632858,
     "user": {
      "displayName": "Aishwarya Singh",
      "photoUrl": "https://lh3.googleusercontent.com/a-/AOh14GgeJwfn4BdBDCAplWi_kdtB9FRssOpXO7T_aMgg=s64",
      "userId": "01105858832371513140"
     },
     "user_tz": -330
    },
    "id": "oiMiwJaz2PiS",
    "outputId": "0b407765-214d-46a6-f7ff-7f97ebecdb61"
   },
   "outputs": [],
   "source": [
    "# auto correcting sample sentences\n",
    "sentence_corrector('are you foing to the party')"
   ]
  },
  {
   "cell_type": "markdown",
   "metadata": {
    "id": "OwzR0TAl2VW5"
   },
   "source": [
    "## Limitations of this autocorrect model"
   ]
  },
  {
   "cell_type": "code",
   "execution_count": null,
   "metadata": {
    "colab": {
     "base_uri": "https://localhost:8080/",
     "height": 35
    },
    "executionInfo": {
     "elapsed": 2155,
     "status": "ok",
     "timestamp": 1603264672998,
     "user": {
      "displayName": "Aishwarya Singh",
      "photoUrl": "https://lh3.googleusercontent.com/a-/AOh14GgeJwfn4BdBDCAplWi_kdtB9FRssOpXO7T_aMgg=s64",
      "userId": "01105858832371513140"
     },
     "user_tz": -330
    },
    "id": "UMm5BFkL3vIb",
    "outputId": "6769e3a5-5118-4db4-b225-e4ed4b871c14"
   },
   "outputs": [],
   "source": [
    "# auto correcting sample sentences\n",
    "sentence_corrector('this is a big siging for us')"
   ]
  },
  {
   "cell_type": "code",
   "execution_count": null,
   "metadata": {
    "colab": {
     "base_uri": "https://localhost:8080/",
     "height": 35
    },
    "executionInfo": {
     "elapsed": 1886,
     "status": "ok",
     "timestamp": 1603264710298,
     "user": {
      "displayName": "Aishwarya Singh",
      "photoUrl": "https://lh3.googleusercontent.com/a-/AOh14GgeJwfn4BdBDCAplWi_kdtB9FRssOpXO7T_aMgg=s64",
      "userId": "01105858832371513140"
     },
     "user_tz": -330
    },
    "id": "O_LT7GN32cPi",
    "outputId": "d6aba484-4ec3-4dba-94bd-d51a36723a86"
   },
   "outputs": [],
   "source": [
    "# auto correcting sample sentences\n",
    "sentence_corrector('i love how versatile acress she is')"
   ]
  },
  {
   "cell_type": "markdown",
   "metadata": {
    "id": "wbsCspXM5ymV"
   },
   "source": [
    "## Solution: N-gram (bigram / trigram) language models"
   ]
  },
  {
   "cell_type": "code",
   "execution_count": 1,
   "metadata": {},
   "outputs": [],
   "source": [
    "import re\n",
    "from collections import Counter, defaultdict\n"
   ]
  },
  {
   "cell_type": "code",
   "execution_count": 2,
   "metadata": {},
   "outputs": [],
   "source": [
    "# Reading the dataset\n",
    "file = open('big.txt').read()"
   ]
  },
  {
   "cell_type": "code",
   "execution_count": 3,
   "metadata": {},
   "outputs": [],
   "source": [
    "# Function to extract all the words from the text file\n",
    "def words(text): \n",
    "    return re.findall(r'\\w+', text.lower())"
   ]
  },
  {
   "cell_type": "code",
   "execution_count": 4,
   "metadata": {},
   "outputs": [],
   "source": [
    "# Extracting words from the file\n",
    "WORDS = Counter(words(file))\n"
   ]
  },
  {
   "cell_type": "code",
   "execution_count": 5,
   "metadata": {},
   "outputs": [],
   "source": [
    "# Function to generate all possible splits of a word\n",
    "def splits(word):\n",
    "    return [(word[:i], word[i:]) for i in range(len(word) + 1)]\n"
   ]
  },
  {
   "cell_type": "code",
   "execution_count": 6,
   "metadata": {},
   "outputs": [],
   "source": [
    "# Function to generate all possible edits that are one edit away from the original word\n",
    "def edits1(word):\n",
    "    letters = 'abcdefghijklmnopqrstuvwxyz'\n",
    "    deletes    = [a + b[1:] for a, b in splits(word) if b]\n",
    "    transposes = [a + b[1] + b[0] + b[2:] for a, b in splits(word) if len(b) > 1]\n",
    "    replaces   = [a + c + b[1:] for a, b in splits(word) if b for c in letters]\n",
    "    inserts    = [a + c + b     for a, b in splits(word) for c in letters]\n",
    "    return set(deletes + transposes + replaces + inserts)\n",
    "\n",
    "# Function to keep only those candidate words which are present in the vocabulary\n",
    "def known(words):\n",
    "    return set(w for w in words if w in WORDS)\n",
    "\n",
    "# Function to generate all candidate corrections for a given word\n",
    "def candidates(word):\n",
    "    return known([word]) or known(edits1(word)) or [word]\n",
    "\n",
    "# Function to return the probability of a word using the trigram language model\n",
    "def P(word, prev1, prev2):\n",
    "    trigram = (prev1, prev2, word)\n",
    "    return trigram_counts[trigram] / sum(trigram_counts[(prev1, prev2, w)] for w in WORDS)\n",
    "\n",
    "# Function to generate all possible trigrams for a given sentence\n",
    "def generate_trigrams(sentence):\n",
    "    words = sentence.split()\n",
    "    if len(words) < 3:\n",
    "        return []\n",
    "    else:\n",
    "        return [(words[i], words[i+1], words[i+2]) for i in range(len(words)-2)]\n",
    "\n",
    "# Function to correct a word using the trigram language model\n",
    "def correction(word, prev1, prev2):\n",
    "    return max(candidates(word), key=lambda w: P(w, prev1, prev2))\n",
    "\n"
   ]
  },
  {
   "cell_type": "code",
   "execution_count": 9,
   "metadata": {},
   "outputs": [],
   "source": [
    "# Function to auto-correct a sentence using the trigram language model\n",
    "def sentence_corrector(sentence):\n",
    "    sentence = sentence.lower()\n",
    "    words = sentence.split()\n",
    "    corrected_sentence = []\n",
    "\n",
    "    prev1, prev2 = None, None\n",
    "    for word in words:\n",
    "        corrected_word = correction(word, prev1, prev2)\n",
    "        corrected_sentence.append(corrected_word)\n",
    "        prev1, prev2 = prev2, corrected_word\n",
    "    \n",
    "    return \" \".join(corrected_sentence)\n"
   ]
  },
  {
   "cell_type": "code",
   "execution_count": 10,
   "metadata": {},
   "outputs": [
    {
     "ename": "NameError",
     "evalue": "name 'trigram_counts' is not defined",
     "output_type": "error",
     "traceback": [
      "\u001b[1;31m---------------------------------------------------------------------------\u001b[0m",
      "\u001b[1;31mNameError\u001b[0m                                 Traceback (most recent call last)",
      "Cell \u001b[1;32mIn[10], line 2\u001b[0m\n\u001b[0;32m      1\u001b[0m \u001b[38;5;66;03m# Example usage\u001b[39;00m\n\u001b[1;32m----> 2\u001b[0m corrected_sentence \u001b[38;5;241m=\u001b[39m sentence_corrector(\u001b[38;5;124m'\u001b[39m\u001b[38;5;124mi love how versatile acress she is\u001b[39m\u001b[38;5;124m'\u001b[39m)\n\u001b[0;32m      3\u001b[0m \u001b[38;5;28mprint\u001b[39m(\u001b[38;5;124m\"\u001b[39m\u001b[38;5;124mCorrected sentence:\u001b[39m\u001b[38;5;124m\"\u001b[39m, corrected_sentence)\n",
      "Cell \u001b[1;32mIn[9], line 9\u001b[0m, in \u001b[0;36msentence_corrector\u001b[1;34m(sentence)\u001b[0m\n\u001b[0;32m      7\u001b[0m prev1, prev2 \u001b[38;5;241m=\u001b[39m \u001b[38;5;28;01mNone\u001b[39;00m, \u001b[38;5;28;01mNone\u001b[39;00m\n\u001b[0;32m      8\u001b[0m \u001b[38;5;28;01mfor\u001b[39;00m word \u001b[38;5;129;01min\u001b[39;00m words:\n\u001b[1;32m----> 9\u001b[0m     corrected_word \u001b[38;5;241m=\u001b[39m correction(word, prev1, prev2)\n\u001b[0;32m     10\u001b[0m     corrected_sentence\u001b[38;5;241m.\u001b[39mappend(corrected_word)\n\u001b[0;32m     11\u001b[0m     prev1, prev2 \u001b[38;5;241m=\u001b[39m prev2, corrected_word\n",
      "Cell \u001b[1;32mIn[6], line 33\u001b[0m, in \u001b[0;36mcorrection\u001b[1;34m(word, prev1, prev2)\u001b[0m\n\u001b[0;32m     32\u001b[0m \u001b[38;5;28;01mdef\u001b[39;00m \u001b[38;5;21mcorrection\u001b[39m(word, prev1, prev2):\n\u001b[1;32m---> 33\u001b[0m     \u001b[38;5;28;01mreturn\u001b[39;00m \u001b[38;5;28mmax\u001b[39m(candidates(word), key\u001b[38;5;241m=\u001b[39m\u001b[38;5;28;01mlambda\u001b[39;00m w: P(w, prev1, prev2))\n",
      "Cell \u001b[1;32mIn[6], line 33\u001b[0m, in \u001b[0;36mcorrection.<locals>.<lambda>\u001b[1;34m(w)\u001b[0m\n\u001b[0;32m     32\u001b[0m \u001b[38;5;28;01mdef\u001b[39;00m \u001b[38;5;21mcorrection\u001b[39m(word, prev1, prev2):\n\u001b[1;32m---> 33\u001b[0m     \u001b[38;5;28;01mreturn\u001b[39;00m \u001b[38;5;28mmax\u001b[39m(candidates(word), key\u001b[38;5;241m=\u001b[39m\u001b[38;5;28;01mlambda\u001b[39;00m w: P(w, prev1, prev2))\n",
      "Cell \u001b[1;32mIn[6], line 21\u001b[0m, in \u001b[0;36mP\u001b[1;34m(word, prev1, prev2)\u001b[0m\n\u001b[0;32m     19\u001b[0m \u001b[38;5;28;01mdef\u001b[39;00m \u001b[38;5;21mP\u001b[39m(word, prev1, prev2):\n\u001b[0;32m     20\u001b[0m     trigram \u001b[38;5;241m=\u001b[39m (prev1, prev2, word)\n\u001b[1;32m---> 21\u001b[0m     \u001b[38;5;28;01mreturn\u001b[39;00m trigram_counts[trigram] \u001b[38;5;241m/\u001b[39m \u001b[38;5;28msum\u001b[39m(trigram_counts[(prev1, prev2, w)] \u001b[38;5;28;01mfor\u001b[39;00m w \u001b[38;5;129;01min\u001b[39;00m WORDS)\n",
      "\u001b[1;31mNameError\u001b[0m: name 'trigram_counts' is not defined"
     ]
    }
   ],
   "source": [
    "# Example usage\n",
    "corrected_sentence = sentence_corrector('i love how versatile acress she is')\n",
    "print(\"Corrected sentence:\", corrected_sentence)"
   ]
  },
  {
   "cell_type": "code",
   "execution_count": null,
   "metadata": {},
   "outputs": [],
   "source": []
  }
 ],
 "metadata": {
  "colab": {
   "collapsed_sections": [],
   "name": "11.4 Building a spelling corrector.ipynb",
   "provenance": []
  },
  "kernelspec": {
   "display_name": "Python 3 (ipykernel)",
   "language": "python",
   "name": "python3"
  },
  "language_info": {
   "codemirror_mode": {
    "name": "ipython",
    "version": 3
   },
   "file_extension": ".py",
   "mimetype": "text/x-python",
   "name": "python",
   "nbconvert_exporter": "python",
   "pygments_lexer": "ipython3",
   "version": "3.11.5"
  }
 },
 "nbformat": 4,
 "nbformat_minor": 1
}
